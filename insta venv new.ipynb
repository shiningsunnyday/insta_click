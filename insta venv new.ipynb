{
 "cells": [
  {
   "cell_type": "code",
   "execution_count": 31,
   "id": "biological-woman",
   "metadata": {},
   "outputs": [],
   "source": [
    "from selenium.webdriver import Chrome\n",
    "from selenium.webdriver.common.action_chains import ActionChains\n",
    "from selenium.webdriver.common.keys import Keys\n",
    "from time import sleep"
   ]
  },
  {
   "cell_type": "code",
   "execution_count": 32,
   "id": "broken-lunch",
   "metadata": {},
   "outputs": [],
   "source": [
    "driver = Chrome()\n",
    "driver.get(\"https://instagram.com\")"
   ]
  },
  {
   "cell_type": "code",
   "execution_count": 33,
   "id": "expensive-replica",
   "metadata": {},
   "outputs": [],
   "source": [
    "#very un-robust code written in a hurry\n",
    "def read_secrets():\n",
    "    file1 = open(\"secrets.txt\", \"r\")\n",
    "    secrets = file1.readline()\n",
    "    username, password = tuple(secrets.split())\n",
    "    return username, password\n",
    "\n",
    "def login(driver):\n",
    "    username, password = read_secrets()\n",
    "    sleep(5)\n",
    "    email_input = driver.find_element_by_xpath(\"//*[@id=\\\"loginForm\\\"]/div/div[1]/div/label/input\")\n",
    "    pw_input = driver.find_element_by_xpath(\"//*[@id=\\\"loginForm\\\"]/div/div[2]/div/label/input\")\n",
    "    login_button = driver.find_element_by_xpath(\"//*[@id=\\\"loginForm\\\"]/div/div[3]/button\")\n",
    "    email_input.send_keys(username)\n",
    "    pw_input.send_keys(password)\n",
    "    login_button.click()\n",
    "    sleep(10)\n",
    "    no_to_notification = driver.find_element_by_xpath(\"/html/body/div[4]/div/div/div/div[3]/button[2]\")\n",
    "    no_to_notification.click()"
   ]
  },
  {
   "cell_type": "code",
   "execution_count": 34,
   "id": "committed-soccer",
   "metadata": {},
   "outputs": [],
   "source": [
    "login(driver)"
   ]
  },
  {
   "cell_type": "code",
   "execution_count": 35,
   "id": "polish-lucas",
   "metadata": {},
   "outputs": [],
   "source": [
    "# username, password = read_secrets()\n",
    "# print(username)\n",
    "# print(password)"
   ]
  },
  {
   "cell_type": "code",
   "execution_count": 36,
   "id": "documentary-indonesian",
   "metadata": {},
   "outputs": [],
   "source": [
    "def follow_spam():\n",
    "    see_all_button = driver.find_element_by_xpath(\"//*[@id=\\\"react-root\\\"]/section/main/section/div[3]/div[2]/div[1]/a/div\")\n",
    "    see_all_button.click()\n",
    "    for _ in range(1):\n",
    "        buttons = driver.find_elements_by_tag_name('button')\n",
    "        for button in buttons:\n",
    "            button.click()\n",
    "            sleep(0.1)\n",
    "    #     driver.refresh()\n",
    "    for button in buttons:\n",
    "        button.click()\n",
    "        unfol=driver.find_element_by_xpath(\"/html/body/div[4]/div/div/div/div[3]/button[1]\")\n",
    "        unfol.click()"
   ]
  },
  {
   "cell_type": "code",
   "execution_count": 37,
   "id": "forward-coral",
   "metadata": {},
   "outputs": [],
   "source": [
    "def like_spam():\n",
    "    for _ in range(1):\n",
    "        for _ in range(5):\n",
    "            driver.execute_script(\"window.scrollTo(0,document.body.scrollHeight)\")\n",
    "            sleep(1.5)\n",
    "        driver.execute_script(\"window.scrollTo(0,0)\")\n",
    "        sleep(2)\n",
    "        like_buttons_spans = driver.find_elements_by_class_name(\"fr66n\")\n",
    "        print(len(like_buttons_spans))\n",
    "        for like_button in like_buttons_spans:\n",
    "            try:\n",
    "                but=like_button.find_element_by_tag_name('button')\n",
    "                but.click()\n",
    "                sleep(1)\n",
    "            except Exception as e:\n",
    "                print(e)\n",
    "                pass\n",
    "        driver.refresh()"
   ]
  },
  {
   "cell_type": "code",
   "execution_count": 38,
   "id": "confident-grill",
   "metadata": {},
   "outputs": [],
   "source": [
    "def like_spam_2():\n",
    "    driver.execute_script(\"window.scrollTo(0,0)\")\n",
    "    sleep(0.5)\n",
    "    for _ in range(5):\n",
    "        like_buttons_spans = driver.find_elements_by_class_name(\"fr66n\")\n",
    "        print(len(like_buttons_spans))\n",
    "        for like_button in like_buttons_spans:\n",
    "            try:\n",
    "                but=like_button.find_element_by_tag_name('button')\n",
    "                print(\"but: \", but)\n",
    "                div = but.find_element_by_tag_name('div')\n",
    "                span = div.find_element_by_tag_name('span')\n",
    "                svg = span.find_element_by_tag_name('svg')\n",
    "                print(\"svg: \", svg)\n",
    "                if(svg.get_attribute(\"aria-label\") == 'Like'):\n",
    "                    print('clicking: ')\n",
    "                    but.click()\n",
    "                    sleep(1)\n",
    "                else:\n",
    "                    print('not clicking: ')\n",
    "            except Exception as e:\n",
    "                print(e)\n",
    "                pass\n",
    "        driver.execute_script(\"window.scrollTo(0,document.body.scrollHeight)\")\n",
    "        sleep(0.5)\n",
    "    driver.refresh()"
   ]
  },
  {
   "cell_type": "code",
   "execution_count": 39,
   "id": "sacred-holmes",
   "metadata": {},
   "outputs": [],
   "source": [
    "#like_spam()"
   ]
  },
  {
   "cell_type": "code",
   "execution_count": 40,
   "id": "innovative-newspaper",
   "metadata": {},
   "outputs": [
    {
     "name": "stdout",
     "output_type": "stream",
     "text": [
      "3\n",
      "but:  <selenium.webdriver.remote.webelement.WebElement (session=\"0563b38386c75538d6ddc73eb8b97204\", element=\"8be03d53-6e2f-4974-81b3-320a4209a2af\")>\n",
      "svg:  <selenium.webdriver.remote.webelement.WebElement (session=\"0563b38386c75538d6ddc73eb8b97204\", element=\"b01e44c5-693e-4239-820f-ca5eab24233a\")>\n",
      "not clicking: \n",
      "but:  <selenium.webdriver.remote.webelement.WebElement (session=\"0563b38386c75538d6ddc73eb8b97204\", element=\"a7e339af-eb37-47cd-968a-4f8c3faa5656\")>\n",
      "svg:  <selenium.webdriver.remote.webelement.WebElement (session=\"0563b38386c75538d6ddc73eb8b97204\", element=\"c62bf224-c35d-4288-a95a-9b248913c834\")>\n",
      "not clicking: \n",
      "but:  <selenium.webdriver.remote.webelement.WebElement (session=\"0563b38386c75538d6ddc73eb8b97204\", element=\"4a477b24-e705-45f6-b464-cdbf76c5927b\")>\n",
      "svg:  <selenium.webdriver.remote.webelement.WebElement (session=\"0563b38386c75538d6ddc73eb8b97204\", element=\"04f1d79e-d423-4a3a-ac56-95712c5baa78\")>\n",
      "not clicking: \n",
      "8\n",
      "but:  <selenium.webdriver.remote.webelement.WebElement (session=\"0563b38386c75538d6ddc73eb8b97204\", element=\"fd88c9ac-9315-4c5b-9570-342ec0067de9\")>\n",
      "svg:  <selenium.webdriver.remote.webelement.WebElement (session=\"0563b38386c75538d6ddc73eb8b97204\", element=\"9a564784-5c05-4cc5-b184-7971d8b48cf2\")>\n",
      "clicking: \n",
      "Message: element click intercepted: Element <button class=\"wpO6b \" type=\"button\">...</button> is not clickable at point (281, 20). Other element would receive the click: <img alt=\"Instagram\" class=\"s4Iyt\" src=\"/static/images/web/mobile_nav_type_logo.png/735145cfe0a4.png\" srcset=\"/static/images/web/mobile_nav_type_logo-2x.png/1b47f9d0e595.png 2x\">\n",
      "  (Session info: chrome=88.0.4324.150)\n",
      "\n",
      "but:  <selenium.webdriver.remote.webelement.WebElement (session=\"0563b38386c75538d6ddc73eb8b97204\", element=\"7813f61b-89b1-4392-9549-87cf1dc9885b\")>\n",
      "svg:  <selenium.webdriver.remote.webelement.WebElement (session=\"0563b38386c75538d6ddc73eb8b97204\", element=\"92e3e650-cd32-40ad-bf62-a552b503316c\")>\n",
      "not clicking: \n",
      "but:  <selenium.webdriver.remote.webelement.WebElement (session=\"0563b38386c75538d6ddc73eb8b97204\", element=\"c53d3c32-e0f9-42fc-aa37-81956ca7aea6\")>\n",
      "svg:  <selenium.webdriver.remote.webelement.WebElement (session=\"0563b38386c75538d6ddc73eb8b97204\", element=\"a7fd8928-41ec-4ce4-92d2-ae7dd693db40\")>\n",
      "not clicking: \n",
      "but:  <selenium.webdriver.remote.webelement.WebElement (session=\"0563b38386c75538d6ddc73eb8b97204\", element=\"d2dc9e81-aa96-4502-85bd-30d4e410e287\")>\n",
      "svg:  <selenium.webdriver.remote.webelement.WebElement (session=\"0563b38386c75538d6ddc73eb8b97204\", element=\"b0dfd621-21f0-4b7c-bb65-47c2c0bf82e3\")>\n",
      "not clicking: \n",
      "but:  <selenium.webdriver.remote.webelement.WebElement (session=\"0563b38386c75538d6ddc73eb8b97204\", element=\"569ff24d-c3bd-4f9d-a5df-2d3c3ec61737\")>\n",
      "svg:  <selenium.webdriver.remote.webelement.WebElement (session=\"0563b38386c75538d6ddc73eb8b97204\", element=\"d43e813a-1e0d-4e13-bfb6-3044ae7a21c7\")>\n",
      "not clicking: \n",
      "Message: stale element reference: element is not attached to the page document\n",
      "  (Session info: chrome=88.0.4324.150)\n",
      "\n",
      "Message: stale element reference: element is not attached to the page document\n",
      "  (Session info: chrome=88.0.4324.150)\n",
      "\n",
      "Message: stale element reference: element is not attached to the page document\n",
      "  (Session info: chrome=88.0.4324.150)\n",
      "\n",
      "7\n",
      "but:  <selenium.webdriver.remote.webelement.WebElement (session=\"0563b38386c75538d6ddc73eb8b97204\", element=\"afa05615-4ba0-433a-81ae-c7adfab987d0\")>\n",
      "svg:  <selenium.webdriver.remote.webelement.WebElement (session=\"0563b38386c75538d6ddc73eb8b97204\", element=\"cdfe7bea-5f06-4b80-8b20-75dbeaff4018\")>\n",
      "not clicking: \n",
      "but:  <selenium.webdriver.remote.webelement.WebElement (session=\"0563b38386c75538d6ddc73eb8b97204\", element=\"5ba6dfd7-3557-4091-89d2-672315e3e2d7\")>\n",
      "svg:  <selenium.webdriver.remote.webelement.WebElement (session=\"0563b38386c75538d6ddc73eb8b97204\", element=\"8eb73cb2-fae2-4a16-b54c-4075f905fe23\")>\n",
      "not clicking: \n",
      "but:  <selenium.webdriver.remote.webelement.WebElement (session=\"0563b38386c75538d6ddc73eb8b97204\", element=\"569ff24d-c3bd-4f9d-a5df-2d3c3ec61737\")>\n",
      "svg:  <selenium.webdriver.remote.webelement.WebElement (session=\"0563b38386c75538d6ddc73eb8b97204\", element=\"d43e813a-1e0d-4e13-bfb6-3044ae7a21c7\")>\n",
      "not clicking: \n",
      "but:  <selenium.webdriver.remote.webelement.WebElement (session=\"0563b38386c75538d6ddc73eb8b97204\", element=\"bfb0cc3b-18e7-4168-8481-a0aa5d6869ba\")>\n",
      "svg:  <selenium.webdriver.remote.webelement.WebElement (session=\"0563b38386c75538d6ddc73eb8b97204\", element=\"95b94ad6-4765-405a-b218-84083e18806a\")>\n",
      "clicking: \n",
      "but:  <selenium.webdriver.remote.webelement.WebElement (session=\"0563b38386c75538d6ddc73eb8b97204\", element=\"4aac7388-b689-4d45-9542-b33cdb52715a\")>\n",
      "svg:  <selenium.webdriver.remote.webelement.WebElement (session=\"0563b38386c75538d6ddc73eb8b97204\", element=\"2a540e6c-1ff3-4c1d-b1cf-242f590b8cc4\")>\n",
      "clicking: \n",
      "but:  <selenium.webdriver.remote.webelement.WebElement (session=\"0563b38386c75538d6ddc73eb8b97204\", element=\"c52ddebc-d69e-4fb9-b745-4e29407f5126\")>\n",
      "svg:  <selenium.webdriver.remote.webelement.WebElement (session=\"0563b38386c75538d6ddc73eb8b97204\", element=\"b7ec350f-b1d9-45f4-aae4-a0a579e4e742\")>\n",
      "clicking: \n",
      "but:  <selenium.webdriver.remote.webelement.WebElement (session=\"0563b38386c75538d6ddc73eb8b97204\", element=\"b71e9e57-de11-4be9-8d7e-189c9773678c\")>\n",
      "svg:  <selenium.webdriver.remote.webelement.WebElement (session=\"0563b38386c75538d6ddc73eb8b97204\", element=\"38771b53-a54c-4e19-a33e-878e5eb4d3b7\")>\n",
      "clicking: \n",
      "4\n",
      "but:  <selenium.webdriver.remote.webelement.WebElement (session=\"0563b38386c75538d6ddc73eb8b97204\", element=\"60baeac6-6fec-4ec5-a783-352e63a8c9b4\")>\n",
      "svg:  <selenium.webdriver.remote.webelement.WebElement (session=\"0563b38386c75538d6ddc73eb8b97204\", element=\"767c992c-7557-453f-a295-fd460205f3f8\")>\n",
      "not clicking: \n",
      "but:  <selenium.webdriver.remote.webelement.WebElement (session=\"0563b38386c75538d6ddc73eb8b97204\", element=\"d1dc2242-8ff5-4a22-92d5-4feb748a0388\")>\n",
      "svg:  <selenium.webdriver.remote.webelement.WebElement (session=\"0563b38386c75538d6ddc73eb8b97204\", element=\"bf779c51-539e-4987-884d-605b7e35ca38\")>\n",
      "not clicking: \n",
      "but:  <selenium.webdriver.remote.webelement.WebElement (session=\"0563b38386c75538d6ddc73eb8b97204\", element=\"d1fd81f8-f44f-4274-abe8-95fff27d272e\")>\n",
      "svg:  <selenium.webdriver.remote.webelement.WebElement (session=\"0563b38386c75538d6ddc73eb8b97204\", element=\"3ae7b445-74fd-4972-8a5a-2be074c41deb\")>\n",
      "not clicking: \n",
      "but:  <selenium.webdriver.remote.webelement.WebElement (session=\"0563b38386c75538d6ddc73eb8b97204\", element=\"36e8cabd-23df-4ca1-b9ae-5a25d00b45e6\")>\n",
      "svg:  <selenium.webdriver.remote.webelement.WebElement (session=\"0563b38386c75538d6ddc73eb8b97204\", element=\"41fb82b3-9135-4b0e-8bbc-01c4b739ab56\")>\n",
      "not clicking: \n",
      "8\n",
      "but:  <selenium.webdriver.remote.webelement.WebElement (session=\"0563b38386c75538d6ddc73eb8b97204\", element=\"60baeac6-6fec-4ec5-a783-352e63a8c9b4\")>\n",
      "svg:  <selenium.webdriver.remote.webelement.WebElement (session=\"0563b38386c75538d6ddc73eb8b97204\", element=\"767c992c-7557-453f-a295-fd460205f3f8\")>\n",
      "not clicking: \n",
      "but:  <selenium.webdriver.remote.webelement.WebElement (session=\"0563b38386c75538d6ddc73eb8b97204\", element=\"d1dc2242-8ff5-4a22-92d5-4feb748a0388\")>\n",
      "svg:  <selenium.webdriver.remote.webelement.WebElement (session=\"0563b38386c75538d6ddc73eb8b97204\", element=\"bf779c51-539e-4987-884d-605b7e35ca38\")>\n",
      "not clicking: \n",
      "but:  <selenium.webdriver.remote.webelement.WebElement (session=\"0563b38386c75538d6ddc73eb8b97204\", element=\"d1fd81f8-f44f-4274-abe8-95fff27d272e\")>\n",
      "svg:  <selenium.webdriver.remote.webelement.WebElement (session=\"0563b38386c75538d6ddc73eb8b97204\", element=\"3ae7b445-74fd-4972-8a5a-2be074c41deb\")>\n",
      "not clicking: \n",
      "but:  <selenium.webdriver.remote.webelement.WebElement (session=\"0563b38386c75538d6ddc73eb8b97204\", element=\"36e8cabd-23df-4ca1-b9ae-5a25d00b45e6\")>\n",
      "svg:  <selenium.webdriver.remote.webelement.WebElement (session=\"0563b38386c75538d6ddc73eb8b97204\", element=\"41fb82b3-9135-4b0e-8bbc-01c4b739ab56\")>\n",
      "not clicking: \n",
      "but:  <selenium.webdriver.remote.webelement.WebElement (session=\"0563b38386c75538d6ddc73eb8b97204\", element=\"5ef51d35-98fa-43a1-ad2b-8398d32465bc\")>\n",
      "svg:  <selenium.webdriver.remote.webelement.WebElement (session=\"0563b38386c75538d6ddc73eb8b97204\", element=\"67efbd5c-953a-46ea-9409-00388fe36ccc\")>\n",
      "not clicking: \n",
      "but:  <selenium.webdriver.remote.webelement.WebElement (session=\"0563b38386c75538d6ddc73eb8b97204\", element=\"2ffa5b82-271b-48ca-bad8-6fe158963e28\")>\n"
     ]
    },
    {
     "name": "stdout",
     "output_type": "stream",
     "text": [
      "svg:  <selenium.webdriver.remote.webelement.WebElement (session=\"0563b38386c75538d6ddc73eb8b97204\", element=\"800c2fe1-14fe-4add-9a0e-da468a0ad517\")>\n",
      "not clicking: \n",
      "but:  <selenium.webdriver.remote.webelement.WebElement (session=\"0563b38386c75538d6ddc73eb8b97204\", element=\"ab3e9bb3-0d24-4917-8d2f-b4d481b8587f\")>\n",
      "svg:  <selenium.webdriver.remote.webelement.WebElement (session=\"0563b38386c75538d6ddc73eb8b97204\", element=\"0df48784-47c3-4f53-b536-d9a60a6146e4\")>\n",
      "not clicking: \n",
      "but:  <selenium.webdriver.remote.webelement.WebElement (session=\"0563b38386c75538d6ddc73eb8b97204\", element=\"455f6ceb-de87-45a1-a9c4-2f57e6cad739\")>\n",
      "svg:  <selenium.webdriver.remote.webelement.WebElement (session=\"0563b38386c75538d6ddc73eb8b97204\", element=\"8c4d5ff3-3b06-4155-b707-dad4a8c8ca8c\")>\n",
      "not clicking: \n"
     ]
    }
   ],
   "source": [
    "like_spam_2()"
   ]
  },
  {
   "cell_type": "code",
   "execution_count": null,
   "id": "distributed-figure",
   "metadata": {},
   "outputs": [],
   "source": []
  },
  {
   "cell_type": "code",
   "execution_count": null,
   "id": "representative-feelings",
   "metadata": {},
   "outputs": [],
   "source": [
    "driver.find_elements_by_class_name(\"sqdOP  L3NKy   y3zKF     \")"
   ]
  },
  {
   "cell_type": "code",
   "execution_count": null,
   "id": "public-location",
   "metadata": {},
   "outputs": [],
   "source": []
  },
  {
   "cell_type": "code",
   "execution_count": null,
   "id": "returning-beauty",
   "metadata": {},
   "outputs": [],
   "source": [
    "sqdOP  L3NKy   y3zKF     "
   ]
  },
  {
   "cell_type": "code",
   "execution_count": null,
   "id": "beneficial-savannah",
   "metadata": {},
   "outputs": [],
   "source": [
    "sqdOP  L3NKy   y3zKF     "
   ]
  },
  {
   "cell_type": "code",
   "execution_count": null,
   "id": "conceptual-tribune",
   "metadata": {},
   "outputs": [],
   "source": []
  },
  {
   "cell_type": "code",
   "execution_count": null,
   "id": "committed-glucose",
   "metadata": {},
   "outputs": [],
   "source": []
  }
 ],
 "metadata": {
  "kernelspec": {
   "display_name": "Python 3",
   "language": "python",
   "name": "python3"
  },
  "language_info": {
   "codemirror_mode": {
    "name": "ipython",
    "version": 3
   },
   "file_extension": ".py",
   "mimetype": "text/x-python",
   "name": "python",
   "nbconvert_exporter": "python",
   "pygments_lexer": "ipython3",
   "version": "3.7.7"
  }
 },
 "nbformat": 4,
 "nbformat_minor": 5
}
