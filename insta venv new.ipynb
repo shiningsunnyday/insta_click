{
 "cells": [
  {
   "cell_type": "code",
   "execution_count": 23,
   "id": "biological-woman",
   "metadata": {},
   "outputs": [],
   "source": [
    "from selenium.webdriver import Chrome\n",
    "from selenium.webdriver.common.action_chains import ActionChains\n",
    "from selenium.webdriver.common.keys import Keys\n",
    "from time import sleep"
   ]
  },
  {
   "cell_type": "code",
   "execution_count": 24,
   "id": "broken-lunch",
   "metadata": {},
   "outputs": [],
   "source": [
    "driver = Chrome()\n",
    "driver.get(\"https://instagram.com\")"
   ]
  },
  {
   "cell_type": "code",
   "execution_count": 25,
   "id": "expensive-replica",
   "metadata": {},
   "outputs": [],
   "source": [
    "#very un-robust code written in a hurry\n",
    "def read_secrets():\n",
    "    file1 = open(\"secrets.txt\", \"r\")\n",
    "    secrets = file1.readline()\n",
    "    username, password = tuple(secrets.split())\n",
    "    return username, password\n",
    "\n",
    "def login(driver):\n",
    "    username, password = read_secrets()\n",
    "    sleep(5)\n",
    "    email_input = driver.find_element_by_xpath(\"//*[@id=\\\"loginForm\\\"]/div/div[1]/div/label/input\")\n",
    "    pw_input = driver.find_element_by_xpath(\"//*[@id=\\\"loginForm\\\"]/div/div[2]/div/label/input\")\n",
    "    login_button = driver.find_element_by_xpath(\"//*[@id=\\\"loginForm\\\"]/div/div[3]/button\")\n",
    "    email_input.send_keys(username)\n",
    "    pw_input.send_keys(password)\n",
    "    login_button.click()\n",
    "    sleep(10)\n",
    "    no_to_notification = driver.find_element_by_xpath(\"/html/body/div[4]/div/div/div/div[3]/button[2]\")\n",
    "    no_to_notification.click()"
   ]
  },
  {
   "cell_type": "code",
   "execution_count": 26,
   "id": "committed-soccer",
   "metadata": {},
   "outputs": [],
   "source": [
    "login(driver)"
   ]
  },
  {
   "cell_type": "code",
   "execution_count": 27,
   "id": "polish-lucas",
   "metadata": {},
   "outputs": [],
   "source": [
    "# username, password = read_secrets()\n",
    "# print(username)\n",
    "# print(password)"
   ]
  },
  {
   "cell_type": "code",
   "execution_count": 28,
   "id": "documentary-indonesian",
   "metadata": {},
   "outputs": [],
   "source": [
    "def follow_spam():\n",
    "    see_all_button = driver.find_element_by_xpath(\"//*[@id=\\\"react-root\\\"]/section/main/section/div[3]/div[2]/div[1]/a/div\")\n",
    "    see_all_button.click()\n",
    "    for _ in range(1):\n",
    "        buttons = driver.find_elements_by_tag_name('button')\n",
    "        for button in buttons:\n",
    "            button.click()\n",
    "            sleep(0.1)\n",
    "    #     driver.refresh()\n",
    "    for button in buttons:\n",
    "        button.click()\n",
    "        unfol=driver.find_element_by_xpath(\"/html/body/div[4]/div/div/div/div[3]/button[1]\")\n",
    "        unfol.click()"
   ]
  },
  {
   "cell_type": "code",
   "execution_count": 30,
   "id": "forward-coral",
   "metadata": {},
   "outputs": [],
   "source": [
    "def like_spam():\n",
    "    for _ in range(1):\n",
    "        for _ in range(5):\n",
    "            driver.execute_script(\"window.scrollTo(0,document.body.scrollHeight)\")\n",
    "            sleep(1.5)\n",
    "        driver.execute_script(\"window.scrollTo(0,0)\")\n",
    "        sleep(2)\n",
    "        like_buttons_spans = driver.find_elements_by_class_name(\"fr66n\")\n",
    "        print(len(like_buttons_spans))\n",
    "        for like_button in like_buttons_spans:\n",
    "            try:\n",
    "                but=like_button.find_element_by_tag_name('button')\n",
    "                but.click()\n",
    "                sleep(1)\n",
    "            except:\n",
    "                pass\n",
    "        driver.refresh()"
   ]
  },
  {
   "cell_type": "code",
   "execution_count": 60,
   "id": "confident-grill",
   "metadata": {},
   "outputs": [],
   "source": [
    "def like_spam_2():\n",
    "    driver.execute_script(\"window.scrollTo(0,0)\")\n",
    "    sleep(0.5)\n",
    "    for _ in range(5):\n",
    "        like_buttons_spans = driver.find_elements_by_class_name(\"fr66n\")\n",
    "        print(len(like_buttons_spans))\n",
    "        for like_button in like_buttons_spans:\n",
    "            try:\n",
    "                but=like_button.find_element_by_tag_name('button')\n",
    "                print(\"but: \", but)\n",
    "                div = but.find_element_by_tag_name('div')\n",
    "                span = div.find_element_by_tag_name('span')\n",
    "                svg = span.find_element_by_tag_name('svg')\n",
    "                #print(\"svg: \", svg)\n",
    "                if(svg.getAttribute(\"aria-label\") == 'Like'):\n",
    "                    but.click()\n",
    "                    sleep(1)\n",
    "            except:\n",
    "                pass\n",
    "        driver.execute_script(\"window.scrollTo(0,document.body.scrollHeight)\")\n",
    "        sleep(0.5)\n",
    "    driver.refresh()"
   ]
  },
  {
   "cell_type": "code",
   "execution_count": 61,
   "id": "sacred-holmes",
   "metadata": {},
   "outputs": [],
   "source": [
    "#like_spam()"
   ]
  },
  {
   "cell_type": "code",
   "execution_count": 63,
   "id": "innovative-newspaper",
   "metadata": {},
   "outputs": [
    {
     "name": "stdout",
     "output_type": "stream",
     "text": [
      "3\n",
      "but:  <selenium.webdriver.remote.webelement.WebElement (session=\"0f30115f4bf4a39f90670900cebbd603\", element=\"29509893-39a0-48e6-8ec5-46c273c2f1d3\")>\n",
      "but:  <selenium.webdriver.remote.webelement.WebElement (session=\"0f30115f4bf4a39f90670900cebbd603\", element=\"836e9e25-3e31-4f60-bb7d-accc5cb7c687\")>\n",
      "but:  <selenium.webdriver.remote.webelement.WebElement (session=\"0f30115f4bf4a39f90670900cebbd603\", element=\"b369d6f4-48fb-4bb4-aa73-32ac96a6d4f9\")>\n"
     ]
    }
   ],
   "source": [
    "like_spam_2()"
   ]
  },
  {
   "cell_type": "code",
   "execution_count": null,
   "id": "distributed-figure",
   "metadata": {},
   "outputs": [],
   "source": []
  },
  {
   "cell_type": "code",
   "execution_count": null,
   "id": "representative-feelings",
   "metadata": {},
   "outputs": [],
   "source": [
    "driver.find_elements_by_class_name(\"sqdOP  L3NKy   y3zKF     \")"
   ]
  },
  {
   "cell_type": "code",
   "execution_count": null,
   "id": "public-location",
   "metadata": {},
   "outputs": [],
   "source": []
  },
  {
   "cell_type": "code",
   "execution_count": null,
   "id": "returning-beauty",
   "metadata": {},
   "outputs": [],
   "source": [
    "sqdOP  L3NKy   y3zKF     "
   ]
  },
  {
   "cell_type": "code",
   "execution_count": null,
   "id": "beneficial-savannah",
   "metadata": {},
   "outputs": [],
   "source": [
    "sqdOP  L3NKy   y3zKF     "
   ]
  },
  {
   "cell_type": "code",
   "execution_count": null,
   "id": "conceptual-tribune",
   "metadata": {},
   "outputs": [],
   "source": []
  },
  {
   "cell_type": "code",
   "execution_count": null,
   "id": "committed-glucose",
   "metadata": {},
   "outputs": [],
   "source": []
  }
 ],
 "metadata": {
  "kernelspec": {
   "display_name": "Python 3",
   "language": "python",
   "name": "python3"
  },
  "language_info": {
   "codemirror_mode": {
    "name": "ipython",
    "version": 3
   },
   "file_extension": ".py",
   "mimetype": "text/x-python",
   "name": "python",
   "nbconvert_exporter": "python",
   "pygments_lexer": "ipython3",
   "version": "3.7.7"
  }
 },
 "nbformat": 4,
 "nbformat_minor": 5
}
