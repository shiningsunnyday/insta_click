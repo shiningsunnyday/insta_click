{
 "cells": [
  {
   "cell_type": "code",
   "execution_count": 23,
   "id": "biological-woman",
   "metadata": {},
   "outputs": [],
   "source": [
    "from selenium.webdriver import Chrome\n",
    "from selenium.webdriver.common.action_chains import ActionChains\n",
    "from selenium.webdriver.common.keys import Keys\n",
    "from time import sleep"
   ]
  },
  {
   "cell_type": "code",
   "execution_count": 24,
   "id": "broken-lunch",
   "metadata": {},
   "outputs": [],
   "source": [
    "driver = Chrome()\n",
    "driver.get(\"https://instagram.com\")"
   ]
  },
  {
   "cell_type": "code",
   "execution_count": 25,
   "id": "removed-address",
   "metadata": {},
   "outputs": [],
   "source": [
    "#very un-robust code written in a hurry\n",
    "def read_secrets():\n",
    "    file1 = open(\"secrets.txt\", \"r\")\n",
    "    secrets = file1.readline()\n",
    "    username, password = tuple(secrets.split())\n",
    "    return username, password\n",
    "\n",
    "def login(driver):\n",
    "    username, password = read_secrets()\n",
    "    sleep(5)\n",
    "    email_input = driver.find_element_by_xpath(\"//*[@id=\\\"loginForm\\\"]/div/div[1]/div/label/input\")\n",
    "    pw_input = driver.find_element_by_xpath(\"//*[@id=\\\"loginForm\\\"]/div/div[2]/div/label/input\")\n",
    "    login_button = driver.find_element_by_xpath(\"//*[@id=\\\"loginForm\\\"]/div/div[3]/button\")\n",
    "    email_input.send_keys(username)\n",
    "    pw_input.send_keys(password)\n",
    "    login_button.click()\n",
    "    sleep(10)\n",
    "    no_to_notification = driver.find_element_by_xpath(\"/html/body/div[4]/div/div/div/div[3]/button[2]\")\n",
    "    no_to_notification.click()"
   ]
  },
  {
   "cell_type": "code",
   "execution_count": 26,
   "id": "imperial-greeting",
   "metadata": {},
   "outputs": [],
   "source": [
    "login(driver)"
   ]
  },
  {
   "cell_type": "code",
   "execution_count": 27,
   "id": "absent-springfield",
   "metadata": {},
   "outputs": [],
   "source": [
    "# username, password = read_secrets()\n",
    "# print(username)\n",
    "# print(password)"
   ]
  },
  {
   "cell_type": "code",
   "execution_count": 28,
   "id": "documentary-indonesian",
   "metadata": {},
   "outputs": [],
   "source": [
    "def follow_spam():\n",
    "    see_all_button = driver.find_element_by_xpath(\"//*[@id=\\\"react-root\\\"]/section/main/section/div[3]/div[2]/div[1]/a/div\")\n",
    "    see_all_button.click()\n",
    "    for _ in range(1):\n",
    "        buttons = driver.find_elements_by_tag_name('button')\n",
    "        for button in buttons:\n",
    "            button.click()\n",
    "            sleep(0.1)\n",
    "    #     driver.refresh()\n",
    "    for button in buttons:\n",
    "        button.click()\n",
    "        unfol=driver.find_element_by_xpath(\"/html/body/div[4]/div/div/div/div[3]/button[1]\")\n",
    "        unfol.click()"
   ]
  },
  {
   "cell_type": "code",
   "execution_count": 30,
   "id": "patient-massage",
   "metadata": {},
   "outputs": [],
   "source": [
    "def like_spam():\n",
    "    for _ in range(1):\n",
    "        for _ in range(5):\n",
    "            driver.execute_script(\"window.scrollTo(0,document.body.scrollHeight)\")\n",
    "            sleep(1.5)\n",
    "        driver.execute_script(\"window.scrollTo(0,0)\")\n",
    "        sleep(2)\n",
    "        like_buttons_spans = driver.find_elements_by_class_name(\"fr66n\")\n",
    "        print(len(like_buttons_spans))\n",
    "        for like_button in like_buttons_spans:\n",
    "            try:\n",
    "                but=like_button.find_element_by_tag_name('button')\n",
    "                but.click()\n",
    "                sleep(1)\n",
    "            except:\n",
    "                pass\n",
    "        driver.refresh()"
   ]
  },
  {
   "cell_type": "code",
   "execution_count": 39,
   "id": "medical-lindsay",
   "metadata": {},
   "outputs": [],
   "source": [
    "def like_spam_2():\n",
    "    driver.execute_script(\"window.scrollTo(0,0)\")\n",
    "    sleep(0.5)\n",
    "    for _ in range(5):\n",
    "        like_buttons_spans = driver.find_elements_by_class_name(\"fr66n\")\n",
    "        print(len(like_buttons_spans))\n",
    "        for like_button in like_buttons_spans:\n",
    "            try:\n",
    "                but=like_button.find_element_by_tag_name('button')\n",
    "                print(\"but: \", but)\n",
    "                but.click()\n",
    "                sleep(1)\n",
    "            except:\n",
    "                pass\n",
    "        driver.execute_script(\"window.scrollTo(0,document.body.scrollHeight)\")\n",
    "        sleep(0.5)\n",
    "    driver.refresh()"
   ]
  },
  {
   "cell_type": "code",
   "execution_count": 35,
   "id": "fundamental-thursday",
   "metadata": {},
   "outputs": [
    {
     "name": "stdout",
     "output_type": "stream",
     "text": [
      "3\n"
     ]
    }
   ],
   "source": [
    "like_spam()"
   ]
  },
  {
   "cell_type": "code",
   "execution_count": 40,
   "id": "inside-cloud",
   "metadata": {},
   "outputs": [
    {
     "name": "stdout",
     "output_type": "stream",
     "text": [
      "4\n",
      "but:  <selenium.webdriver.remote.webelement.WebElement (session=\"0f30115f4bf4a39f90670900cebbd603\", element=\"3155f21c-b8e0-4e12-98f1-152fa08f8b28\")>\n",
      "but:  <selenium.webdriver.remote.webelement.WebElement (session=\"0f30115f4bf4a39f90670900cebbd603\", element=\"086d805c-150b-4649-9ce2-199c85213b4f\")>\n",
      "but:  <selenium.webdriver.remote.webelement.WebElement (session=\"0f30115f4bf4a39f90670900cebbd603\", element=\"0783b258-ec23-458a-9f28-20adffc86a9f\")>\n",
      "7\n",
      "but:  <selenium.webdriver.remote.webelement.WebElement (session=\"0f30115f4bf4a39f90670900cebbd603\", element=\"84be8ab9-449a-4de7-a5ac-ddc579dbc58c\")>\n",
      "but:  <selenium.webdriver.remote.webelement.WebElement (session=\"0f30115f4bf4a39f90670900cebbd603\", element=\"36e213d6-d35d-49ae-813b-acd549f034ff\")>\n",
      "but:  <selenium.webdriver.remote.webelement.WebElement (session=\"0f30115f4bf4a39f90670900cebbd603\", element=\"c5e2569c-47f1-40fd-ae3c-0ec03d750a59\")>\n",
      "but:  <selenium.webdriver.remote.webelement.WebElement (session=\"0f30115f4bf4a39f90670900cebbd603\", element=\"1f5d5da0-1cfc-4bdf-9ddc-2946c23e7e6d\")>\n",
      "5\n",
      "but:  <selenium.webdriver.remote.webelement.WebElement (session=\"0f30115f4bf4a39f90670900cebbd603\", element=\"e18298a5-5244-49aa-b462-9bfc02e14243\")>\n",
      "but:  <selenium.webdriver.remote.webelement.WebElement (session=\"0f30115f4bf4a39f90670900cebbd603\", element=\"0b25ec59-7ae1-4cf1-a43f-c52f10605bce\")>\n",
      "but:  <selenium.webdriver.remote.webelement.WebElement (session=\"0f30115f4bf4a39f90670900cebbd603\", element=\"fc549d70-d174-42a7-8a9d-e42261deab09\")>\n",
      "but:  <selenium.webdriver.remote.webelement.WebElement (session=\"0f30115f4bf4a39f90670900cebbd603\", element=\"b53d16cc-4a2a-4827-bd59-b35818c146af\")>\n",
      "5\n",
      "but:  <selenium.webdriver.remote.webelement.WebElement (session=\"0f30115f4bf4a39f90670900cebbd603\", element=\"cc9f9192-a229-4bef-8436-982e1b1f84d8\")>\n",
      "but:  <selenium.webdriver.remote.webelement.WebElement (session=\"0f30115f4bf4a39f90670900cebbd603\", element=\"f38c3b39-c608-4057-a586-850be8265549\")>\n",
      "but:  <selenium.webdriver.remote.webelement.WebElement (session=\"0f30115f4bf4a39f90670900cebbd603\", element=\"7ba65d4b-54f1-4cce-b8d2-db29df90deb9\")>\n",
      "but:  <selenium.webdriver.remote.webelement.WebElement (session=\"0f30115f4bf4a39f90670900cebbd603\", element=\"9d0703c6-b486-42b1-9e92-ae51672a44d8\")>\n",
      "8\n",
      "but:  <selenium.webdriver.remote.webelement.WebElement (session=\"0f30115f4bf4a39f90670900cebbd603\", element=\"1d720248-ff41-48a7-8649-7677a46382ba\")>\n",
      "but:  <selenium.webdriver.remote.webelement.WebElement (session=\"0f30115f4bf4a39f90670900cebbd603\", element=\"aba2a100-e193-49ff-a6a3-4b0138ed6fbf\")>\n",
      "but:  <selenium.webdriver.remote.webelement.WebElement (session=\"0f30115f4bf4a39f90670900cebbd603\", element=\"45c8f04f-773a-4832-9433-bd5f04ea746c\")>\n",
      "but:  <selenium.webdriver.remote.webelement.WebElement (session=\"0f30115f4bf4a39f90670900cebbd603\", element=\"20b732b6-fa79-4030-a97f-44047c93ade6\")>\n",
      "but:  <selenium.webdriver.remote.webelement.WebElement (session=\"0f30115f4bf4a39f90670900cebbd603\", element=\"ed6c7264-a141-4251-9cd6-00d0c23c08e1\")>\n"
     ]
    }
   ],
   "source": [
    "like_spam_2()"
   ]
  },
  {
   "cell_type": "code",
   "execution_count": null,
   "id": "cosmetic-spiritual",
   "metadata": {},
   "outputs": [],
   "source": []
  },
  {
   "cell_type": "code",
   "execution_count": null,
   "id": "ambient-sociology",
   "metadata": {},
   "outputs": [],
   "source": [
    "driver.find_elements_by_class_name(\"sqdOP  L3NKy   y3zKF     \")"
   ]
  },
  {
   "cell_type": "code",
   "execution_count": null,
   "id": "emerging-press",
   "metadata": {},
   "outputs": [],
   "source": []
  },
  {
   "cell_type": "code",
   "execution_count": null,
   "id": "sublime-skirt",
   "metadata": {},
   "outputs": [],
   "source": [
    "sqdOP  L3NKy   y3zKF     "
   ]
  },
  {
   "cell_type": "code",
   "execution_count": null,
   "id": "ranging-inspection",
   "metadata": {},
   "outputs": [],
   "source": [
    "sqdOP  L3NKy   y3zKF     "
   ]
  },
  {
   "cell_type": "code",
   "execution_count": null,
   "id": "ranking-queue",
   "metadata": {},
   "outputs": [],
   "source": []
  },
  {
   "cell_type": "code",
   "execution_count": null,
   "id": "interim-bikini",
   "metadata": {},
   "outputs": [],
   "source": []
  }
 ],
 "metadata": {
  "kernelspec": {
   "display_name": "Python 3",
   "language": "python",
   "name": "python3"
  },
  "language_info": {
   "codemirror_mode": {
    "name": "ipython",
    "version": 3
   },
   "file_extension": ".py",
   "mimetype": "text/x-python",
   "name": "python",
   "nbconvert_exporter": "python",
   "pygments_lexer": "ipython3",
   "version": "3.7.7"
  }
 },
 "nbformat": 4,
 "nbformat_minor": 5
}
