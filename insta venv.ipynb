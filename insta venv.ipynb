{
 "cells": [
  {
   "cell_type": "code",
   "execution_count": 72,
   "id": "biological-woman",
   "metadata": {},
   "outputs": [],
   "source": [
    "from selenium.webdriver import Chrome\n",
    "from time import sleep"
   ]
  },
  {
   "cell_type": "code",
   "execution_count": 73,
   "id": "broken-lunch",
   "metadata": {},
   "outputs": [],
   "source": [
    "driver = Chrome()\n",
    "driver.get(\"https://instagram.com\")"
   ]
  },
  {
   "cell_type": "code",
   "execution_count": 74,
   "id": "hollow-straight",
   "metadata": {},
   "outputs": [],
   "source": [
    "#very un-robust code written in a hurry\n",
    "def read_secrets():\n",
    "    file1 = open(\"secrets.txt\", \"r\")\n",
    "    secrets = file1.readline()\n",
    "    username, password = tuple(secrets.split())\n",
    "    return username, password\n",
    "\n",
    "def login(driver):\n",
    "    username, password = read_secrets()\n",
    "    sleep(5)\n",
    "    email_input = driver.find_element_by_xpath(\"//*[@id=\\\"loginForm\\\"]/div/div[1]/div/label/input\")\n",
    "    pw_input = driver.find_element_by_xpath(\"//*[@id=\\\"loginForm\\\"]/div/div[2]/div/label/input\")\n",
    "    login_button = driver.find_element_by_xpath(\"//*[@id=\\\"loginForm\\\"]/div/div[3]/button\")\n",
    "    email_input.send_keys(username)\n",
    "    pw_input.send_keys(password)\n",
    "    login_button.click()\n",
    "    sleep(10)\n",
    "    no_to_notification = driver.find_element_by_xpath(\"/html/body/div[4]/div/div/div/div[3]/button[2]\")\n",
    "    no_to_notification.click()"
   ]
  },
  {
   "cell_type": "code",
   "execution_count": 75,
   "id": "unavailable-singing",
   "metadata": {},
   "outputs": [],
   "source": [
    "login(driver)"
   ]
  },
  {
   "cell_type": "code",
   "execution_count": 65,
   "id": "suffering-turkey",
   "metadata": {},
   "outputs": [],
   "source": [
    "# username, password = read_secrets()\n",
    "# print(username)\n",
    "# print(password)"
   ]
  },
  {
   "cell_type": "code",
   "execution_count": 7,
   "id": "documentary-indonesian",
   "metadata": {},
   "outputs": [],
   "source": []
  },
  {
   "cell_type": "code",
   "execution_count": 9,
   "id": "actual-group",
   "metadata": {},
   "outputs": [],
   "source": []
  },
  {
   "cell_type": "code",
   "execution_count": 10,
   "id": "adaptive-study",
   "metadata": {},
   "outputs": [],
   "source": []
  },
  {
   "cell_type": "code",
   "execution_count": 13,
   "id": "clinical-break",
   "metadata": {},
   "outputs": [],
   "source": []
  },
  {
   "cell_type": "code",
   "execution_count": 14,
   "id": "angry-satellite",
   "metadata": {},
   "outputs": [],
   "source": []
  },
  {
   "cell_type": "code",
   "execution_count": 15,
   "id": "aging-limit",
   "metadata": {},
   "outputs": [],
   "source": []
  },
  {
   "cell_type": "code",
   "execution_count": 17,
   "id": "imported-burke",
   "metadata": {},
   "outputs": [],
   "source": []
  },
  {
   "cell_type": "code",
   "execution_count": 18,
   "id": "behind-basin",
   "metadata": {},
   "outputs": [],
   "source": []
  }
 ],
 "metadata": {
  "kernelspec": {
   "display_name": "Python 3",
   "language": "python",
   "name": "python3"
  },
  "language_info": {
   "codemirror_mode": {
    "name": "ipython",
    "version": 3
   },
   "file_extension": ".py",
   "mimetype": "text/x-python",
   "name": "python",
   "nbconvert_exporter": "python",
   "pygments_lexer": "ipython3",
   "version": "3.7.7"
  }
 },
 "nbformat": 4,
 "nbformat_minor": 5
}
